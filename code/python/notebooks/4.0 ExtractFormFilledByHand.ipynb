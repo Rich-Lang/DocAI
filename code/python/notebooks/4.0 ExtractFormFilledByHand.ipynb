{
 "cells": [
  {
   "cell_type": "markdown",
   "metadata": {},
   "source": [
    "# Extract data from a Sample Form which has been filled up with hand written text\n",
    "\n",
    "## Prerequisites\n",
    "1. To run the code, install the following packages. Please use the latest pre-release version `pip install azure-ai-formrecognizer==3.3.0`.\n"
   ]
  },
  {
   "cell_type": "markdown",
   "metadata": {},
   "source": [
    "- > ! pip install azure-ai-formrecognizer==3.3.0"
   ]
  },
  {
   "cell_type": "markdown",
   "metadata": {},
   "source": [
    "## Load all the API keys, parameters and login credentials"
   ]
  },
  {
   "cell_type": "code",
   "execution_count": 1,
   "metadata": {},
   "outputs": [
    {
     "name": "stdout",
     "output_type": "stream",
     "text": [
      "\n",
      "Got Azure Form Recognizer API Key from environment variable\n"
     ]
    }
   ],
   "source": [
    "import fr\n",
    "\n",
    "# Your Azure Document Intelligence Service Instance\n",
    "MY_FORM_RECOGNIZER_ENDPOINT = 'https://tr-docai-form-recognizer.cognitiveservices.azure.com/'\n",
    "# The model id should match the custom model you have\n",
    "# trained and deployed in your Azure Document Intelligence Service Instance\n",
    "# with the endpoint MY_FORM_RECOGNIZER_ENDPOINT\n",
    "MY_CLAIMS_MODEL_ID = 'claims-v2'\n",
    "\n",
    "formRecognizerCredential = fr.getFormRecognizerCredential()\n",
    "\n",
    "formRecognizerClient = fr.getDocumentAnalysisClient(\n",
    "                            endpoint=MY_FORM_RECOGNIZER_ENDPOINT,\n",
    "                            credential=formRecognizerCredential\n",
    "                        )"
   ]
  },
  {
   "cell_type": "markdown",
   "metadata": {},
   "source": [
    "## Document Extraction Examples"
   ]
  },
  {
   "cell_type": "markdown",
   "metadata": {},
   "source": [
    "### Auto Insurance Claims form by hand\n",
    "\n",
    "- Custom Trained model\n",
    "- Display label, data and confidence (document level and indivudual field level)\n",
    "- Text, Checkbox, radio button"
   ]
  },
  {
   "cell_type": "markdown",
   "metadata": {},
   "source": [
    "#### Display labeled data"
   ]
  },
  {
   "cell_type": "code",
   "execution_count": 3,
   "metadata": {},
   "outputs": [
    {
     "name": "stdout",
     "output_type": "stream",
     "text": [
      "Document Intelligence API version = 2023-07-31\n",
      "         Document Extraction Model Id = claims-v2\n",
      "         Does document have any hand written text? True\n",
      "\n",
      "Document count = 1\n",
      "Document 0 ---------------\n",
      "\tDocument extraction confidence = 0.992\n",
      "\tFormType[type:string;conf:0.948] = 'Auto Insurance Claim Document'\n",
      "\tName[type:string;conf:0.965] = 'Robert Frost'\n",
      "\tAddress[type:string;conf:0.969] = '100 Main Street, Lawrence, MA 01841'\n",
      "\tPhone[type:string;conf:0.948] = '+1 231 435 5612'\n",
      "\tEmail[type:string;conf:0.982] = 'dummy5@5.com'\n",
      "\tPolicyNumber[type:string;conf:0.968] = 'TRI 029471329'\n",
      "\tIncidentDate[type:string;conf:0.98] = '8/02/2023'\n",
      "\tIncidentTime[type:string;conf:0.964] = '5 pm EST'\n",
      "\tIncidentLocation[type:string;conf:0.953] = '2 Wood Street, Lawrence, MA 01841'\n",
      "\tIncidentDescription[type:string;conf:0.916] = 'Two roads diverged in wood , and I - I took the one less traveled by. The other party did the same and we collided.'\n",
      "\tVehicleOwner[type:string;conf:0.978] = 'NA'\n",
      "\tVehicleMakeAndModel[type:string;conf:0.947] = '1992 Subaru Legacy'\n",
      "\tVIN[type:string;conf:0.986] = 'JFIBJ6532NK903473'\n",
      "\tLicensePlateNumber[type:string;conf:0.92] = '| ZYT 22'\n",
      "\tPoliceReportNumber[type:string;conf:0.965] = 'MSP 2342'\n",
      "\tReportingOfficerName[type:string;conf:0.961] = 'Ralph Waldo Emerson'\n",
      "\tPoliceContactInfo[type:string;conf:0.935] = '+1 230 736 6268'\n",
      "\tVehicleDamageExtent[type:string;conf:0.949] = 'Front of car broke'\n",
      "\tSustainedInjuries[type:string;conf:0.971] = 'Bruises'\n",
      "\tAdditionalComments[type:string;conf:0.916] = 'I have miles to go before I sleep, So, I need a rental Car as soon as possible.'\n",
      "\tSelfFiled[type:selectionMark;conf:0.983] = 'selected'\n",
      "\tFiledByOther[type:selectionMark;conf:0.983] = 'unselected'\n",
      "\tAcceptedTerms[type:selectionMark;conf:0.948] = 'selected'\n",
      "\tDateSigned[type:string;conf:0.944] = '8/02/2023'\n",
      "\tNameOfWitness[type:string;conf:0.914] = 'None'\n",
      "\tContactInformationOfWitness[type:string;conf:0.885] = 'None'\n"
     ]
    }
   ],
   "source": [
    "# Assuming you are running notebook from the notebook folder\n",
    "MY_TEST_DOCUMENT = r'..\\..\\..\\data\\sample-claims-docs\\testing\\IC-handwritten-RobertFrost.pdf'\n",
    "\n",
    "fr_api_version, model_id, is_handwritten, result = fr.extractResultFromLocalDocument(\n",
    "                                                        client=formRecognizerClient,\n",
    "                                                        model=MY_CLAIMS_MODEL_ID,\n",
    "                                                        filepath=MY_TEST_DOCUMENT\n",
    "                                                    )\n",
    "\n",
    "print(f'Document Intelligence API version = {fr_api_version}\\n \\\n",
    "        Document Extraction Model Id = {model_id}\\n \\\n",
    "        Does document have any hand written text? {is_handwritten}\\n'\n",
    "     )\n",
    "doc_count = len(result.documents)\n",
    "print(f'Document count = {doc_count}')\n",
    "\n",
    "for idx, document in enumerate(result.documents):\n",
    "    print(f'Document {idx} ---------------')\n",
    "    print(f'\\tDocument extraction confidence = {document.confidence}')\n",
    "    for name, field in document.fields.items():\n",
    "        field_value = field.value if field.value else field.content\n",
    "        print(\"\\t{}[type:{};conf:{}] = '{}'\".format(name, field.value_type, field.confidence, field_value))\n"
   ]
  },
  {
   "cell_type": "markdown",
   "metadata": {},
   "source": [
    "#### View the extracted raw data pages, tables..."
   ]
  },
  {
   "cell_type": "code",
   "execution_count": 4,
   "metadata": {},
   "outputs": [
    {
     "name": "stdout",
     "output_type": "stream",
     "text": [
      "...Line # 0 has text content 'b'TR INSURED''\n",
      "...Line # 1 has text content 'b'A Test P&C INSURANCE Company''\n",
      "...Line # 2 has text content 'b'Auto Insurance Claim Document''\n",
      "...Line # 3 has text content 'b'Customer Information''\n",
      "...Line # 4 has text content 'b'Name Robert Frost''\n",
      "...Line # 5 has text content 'b'Address 100 Main Street, Lawrence, MA 01841''\n",
      "...Line # 6 has text content 'b'Phone Number +1 231 435 5612''\n",
      "...Line # 7 has text content 'b'Email dummy5@5.com''\n",
      "...Line # 8 has text content 'b'Policy Number TRI 029471329''\n",
      "...Line # 9 has text content 'b'Incident Information''\n",
      "...Line # 10 has text content 'b'Date of Incident 8/02/2023''\n",
      "...Line # 11 has text content 'b'Time of Incident 5 pm EST''\n",
      "...Line # 12 has text content 'b'Location of Incident''\n",
      "...Line # 13 has text content 'b'2 Wood Street, Lawrence, MA 01841''\n",
      "...Line # 14 has text content 'b'Description of Incident Two roads diverged in a wood , and I -''\n",
      "...Line # 15 has text content 'b'I took the one less traveled by. The other party did the same''\n",
      "...Line # 16 has text content 'b'and we collided.''\n",
      "...Line # 17 has text content 'b'Vehicle Information''\n",
      "...Line # 18 has text content 'b\"Vehicle Owner's Name (if different from customer) NA\"'\n",
      "...Line # 19 has text content 'b'Make and Model of the Vehicle 1992 Subaru Legacy''\n",
      "...Line # 20 has text content 'b'Vehicle Identification Number (VIN) JFIBJ6532NK903473''\n",
      "...Line # 21 has text content 'b'License Plate Number | ZYT 22''\n",
      "...Line # 22 has text content 'b'Witnesses (if any)''\n",
      "...Line # 0 has text content 'b'Name of Witness''\n",
      "...Line # 1 has text content 'b'Contact Information of Witness''\n",
      "...Line # 2 has text content 'b'Police Report (if filed)''\n",
      "...Line # 3 has text content 'b'Police Report Number MSP 2342''\n",
      "...Line # 4 has text content 'b'Name of Reporting Officer Ralph Waldo Emerson''\n",
      "...Line # 5 has text content 'b'Police Department Contact Information +1 230 736 6268''\n",
      "...Line # 6 has text content 'b'Damage and Injuries''\n",
      "...Line # 7 has text content 'b'Extent of Vehicle Damage Front of car broke''\n",
      "...Line # 8 has text content 'b'Injuries Sustained''\n",
      "...Line # 9 has text content 'b'Bruises''\n",
      "...Line # 10 has text content 'b'Additional Comments''\n",
      "...Line # 11 has text content 'b'I have miles to go before I sleep, So, I need a rental''\n",
      "...Line # 12 has text content 'b'Car as soon as possible.''\n",
      "...Line # 13 has text content 'b'Claim Filed by self?''\n",
      "...Line # 14 has text content 'b'Yes''\n",
      "...Line # 15 has text content 'b'O No''\n",
      "...Line # 16 has text content 'b'X''\n",
      "...Line # 17 has text content 'b'The above information is correct to the best of my knowledge, and I agree with the''\n",
      "...Line # 18 has text content 'b'Terms and Conditions detailed in my policy document with TR Insured.''\n",
      "...Line # 19 has text content 'b'Signature''\n",
      "...Line # 20 has text content 'b'Pfrost''\n",
      "...Line # 21 has text content 'b'Date''\n",
      "...Line # 22 has text content 'b'8/02/2023''\n",
      "...Selection mark is 'selected' and has a confidence of 0.846\n",
      "...Selection mark is 'unselected' and has a confidence of 0.962\n",
      "...Selection mark is 'selected' and has a confidence of 0.995\n",
      "----------------------------------------\n"
     ]
    }
   ],
   "source": [
    "for page in result.pages:\n",
    "    for line_idx, line in enumerate(page.lines):\n",
    "        print(\n",
    "         \"...Line # {} has text content '{}'\".format(\n",
    "        line_idx,\n",
    "        line.content.encode(\"utf-8\")\n",
    "        )\n",
    "    )\n",
    "\n",
    "    for selection_mark in page.selection_marks:\n",
    "        print(\n",
    "         \"...Selection mark is '{}' and has a confidence of {}\".format(\n",
    "         selection_mark.state,\n",
    "         selection_mark.confidence\n",
    "         )\n",
    "    )\n",
    "\n",
    "for table_idx, table in enumerate(result.tables):\n",
    "    print(\n",
    "        \"Table # {} has {} rows and {} columns\".format(\n",
    "        table_idx, table.row_count, table.column_count\n",
    "        )\n",
    "    )\n",
    "        \n",
    "    for cell in table.cells:\n",
    "        print(\n",
    "            \"...Cell[{}][{}] has content '{}'\".format(\n",
    "            cell.row_index,\n",
    "            cell.column_index,\n",
    "            cell.content.encode(\"utf-8\"),\n",
    "            )\n",
    "        )\n",
    "\n",
    "print(\"----------------------------------------\")"
   ]
  },
  {
   "cell_type": "code",
   "execution_count": null,
   "metadata": {},
   "outputs": [],
   "source": []
  }
 ],
 "metadata": {
  "kernelspec": {
   "display_name": "Python 3 (ipykernel)",
   "language": "python",
   "name": "python3"
  },
  "language_info": {
   "codemirror_mode": {
    "name": "ipython",
    "version": 3
   },
   "file_extension": ".py",
   "mimetype": "text/x-python",
   "name": "python",
   "nbconvert_exporter": "python",
   "pygments_lexer": "ipython3",
   "version": "3.11.6"
  }
 },
 "nbformat": 4,
 "nbformat_minor": 2
}
