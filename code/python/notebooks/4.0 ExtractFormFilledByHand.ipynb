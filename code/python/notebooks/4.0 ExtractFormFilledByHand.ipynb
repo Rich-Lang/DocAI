{
 "cells": [
  {
   "cell_type": "markdown",
   "metadata": {},
   "source": [
    "# Extract data from a Sample Form which has been filled up with hand written text\n",
    "\n",
    "## Prerequisites\n",
    "1. To run the code, install the following packages. Please use the latest pre-release version `pip install azure-ai-formrecognizer==3.3.0`.\n"
   ]
  },
  {
   "cell_type": "markdown",
   "metadata": {},
   "source": [
    "- > ! pip install azure-ai-formrecognizer==3.3.0"
   ]
  },
  {
   "cell_type": "markdown",
   "metadata": {},
   "source": [
    "## Load all the API keys, parameters and login credentials"
   ]
  },
  {
   "cell_type": "code",
   "execution_count": 3,
   "metadata": {},
   "outputs": [
    {
     "name": "stdout",
     "output_type": "stream",
     "text": [
      "\n",
      "Got Azure Form Recognizer API Key from environment variable\n"
     ]
    }
   ],
   "source": [
    "import fr\n",
    "\n",
    "# Your Azure Document Intelligence Service Instance\n",
    "MY_FORM_RECOGNIZER_ENDPOINT = 'https://tr-docai-form-recognizer.cognitiveservices.azure.com/'\n",
    "# The model id should match the custom model you have\n",
    "# trained and deployed in your Azure Document Intelligence Service Instance\n",
    "# with the endpoint MY_FORM_RECOGNIZER_ENDPOINT\n",
    "MY_CLAIMS_MODEL_ID = 'claims-v3'\n",
    "\n",
    "formRecognizerCredential = fr.getFormRecognizerCredential()\n",
    "\n",
    "formRecognizerClient = fr.getDocumentAnalysisClient(\n",
    "                            endpoint=MY_FORM_RECOGNIZER_ENDPOINT,\n",
    "                            credential=formRecognizerCredential\n",
    "                        )"
   ]
  },
  {
   "cell_type": "markdown",
   "metadata": {},
   "source": [
    "## Document Extraction Examples"
   ]
  },
  {
   "cell_type": "markdown",
   "metadata": {},
   "source": [
    "### Auto Insurance Claims form by hand\n",
    "\n",
    "- Custom Trained model\n",
    "- Display label, data and confidence (document level and indivudual field level)\n",
    "- Text, Checkbox, radio button"
   ]
  },
  {
   "cell_type": "markdown",
   "metadata": {},
   "source": [
    "#### Display labeled data"
   ]
  },
  {
   "cell_type": "code",
   "execution_count": 6,
   "metadata": {},
   "outputs": [
    {
     "name": "stdout",
     "output_type": "stream",
     "text": [
      "Document Intelligence API version = 2023-07-31\n",
      "         Document Extraction Model Id = claims-v3\n",
      "         Does document have any hand written text? True\n",
      "\n",
      "Document count = 1\n",
      "Document 0 ---------------\n",
      "\tDocument extraction confidence = 0.987\n",
      "\tFormType[type:string;conf:0.92] = 'Auto Insurance Claim Document'\n",
      "\tName[type:string;conf:0.969] = 'William Wordsworth'\n",
      "\tAddress[type:string;conf:0.914] = '39 Washington Street, New York City, NY 10003'\n",
      "\tPhone[type:string;conf:0.957] = '+1 123 465 1637'\n",
      "\tEmail[type:string;conf:0.98] = 'dummy3@3.com'\n",
      "\tPolicyNumber[type:string;conf:0.965] = 'TRI 813654329'\n",
      "\tIncidentDate[type:string;conf:0.964] = '5/31/2023'\n",
      "\tIncidentTime[type:string;conf:0.939] = '11 pm BST'\n",
      "\tIncidentLocation[type:string;conf:0.92] = '2 Daffodil Street, New York City, NY 1002'\n",
      "\tIncidentDescription[type:string;conf:0.938] = 'Another Car changed lane and hit my car on the driver side.'\n",
      "\tVehicleOwner[type:string;conf:0.981] = 'NA'\n",
      "\tVehicleMakeAndModel[type:string;conf:0.964] = '2011 Kia Sorento'\n",
      "\tVIN[type:string;conf:0.982] = '5XYKU4A12BG001739'\n",
      "\tLicensePlateNumber[type:string;conf:0.981] = 'FWK-2762'\n",
      "\tNameOfWitness[type:string;conf:0.963] = 'William Shakespeare'\n",
      "\tContactInformationOfWitness[type:string;conf:0.879] = '+1 000 111 0000'\n",
      "\tPoliceReportNumber[type:string;conf:0.969] = 'NYPD 3256'\n",
      "\tReportingOfficerName[type:string;conf:0.969] = 'Queen Elizabeth'\n",
      "\tPoliceContactInfo[type:string;conf:0.938] = '+1 980 765 1234'\n",
      "\tVehicleDamageExtent[type:string;conf:0.88] = 'Huge dent in driver side front to back. Driver Side window glass broken'\n",
      "\tSustainedInjuries[type:string;conf:0.908] = 'Customer Suffering from writer's block'\n",
      "\tAdditionalComments[type:string;conf:0.912] = 'Lost my poetry book which was in the car'\n",
      "\tSelfFiled[type:selectionMark;conf:0.986] = 'selected'\n",
      "\tFiledByOther[type:selectionMark;conf:0.987] = 'unselected'\n",
      "\tDateSigned[type:string;conf:0.948] = '5/31/2023'\n",
      "\tAcceptedTerms[type:selectionMark;conf:0.645] = 'None'\n"
     ]
    }
   ],
   "source": [
    "# Assuming you are running notebook from the notebook folder\n",
    "#MY_TEST_DOCUMENT = r'..\\..\\..\\data\\sample-claims-docs\\testing\\IC-handwritten-RobertFrost.pdf'\n",
    "MY_TEST_DOCUMENT = r'..\\..\\..\\data\\sample-claims-docs\\testing\\IC-handwritten-WilliamWordsworth.pdf'\n",
    "\n",
    "fr_api_version, model_id, is_handwritten, result = fr.extractResultFromLocalDocument(\n",
    "                                                        client=formRecognizerClient,\n",
    "                                                        model=MY_CLAIMS_MODEL_ID,\n",
    "                                                        filepath=MY_TEST_DOCUMENT\n",
    "                                                    )\n",
    "\n",
    "print(f'Document Intelligence API version = {fr_api_version}\\n \\\n",
    "        Document Extraction Model Id = {model_id}\\n \\\n",
    "        Does document have any hand written text? {is_handwritten}\\n'\n",
    "     )\n",
    "doc_count = len(result.documents)\n",
    "print(f'Document count = {doc_count}')\n",
    "\n",
    "for idx, document in enumerate(result.documents):\n",
    "    print(f'Document {idx} ---------------')\n",
    "    print(f'\\tDocument extraction confidence = {document.confidence}')\n",
    "    for name, field in document.fields.items():\n",
    "        field_value = field.value if field.value else field.content\n",
    "        print(\"\\t{}[type:{};conf:{}] = '{}'\".format(name, field.value_type, field.confidence, field_value))\n"
   ]
  },
  {
   "cell_type": "markdown",
   "metadata": {},
   "source": [
    "## Post Processing after extraction, to fix errors\n",
    "\n",
    "<b><u>Example</u></b>  \n",
    "The <b>IncidentTime</b> extracted from the document shows - '11 pm <font color=red>BST</font>'  \n",
    "The <b>IncidentLocation</b> extracted from the document shows - '2 Daffodil Street, New York City, NY 1002'  \n",
    "The error here is in the time zone. It should be <b>EDT</b> instead of <b>BST</b>  \n",
    "Let's fix it with GPT-4 using AOAI  \n"
   ]
  },
  {
   "cell_type": "markdown",
   "metadata": {},
   "source": [
    "#### Load the AOAI keys and parameters"
   ]
  },
  {
   "cell_type": "code",
   "execution_count": 8,
   "metadata": {},
   "outputs": [
    {
     "name": "stdout",
     "output_type": "stream",
     "text": [
      "\n",
      "Got OPENAI API Key from environment variable\n",
      "AOAI setup succeeded\n"
     ]
    }
   ],
   "source": [
    "import aoai\n",
    "\n",
    "MY_AOAI_ENDPOINT = 'https://tr-non-prod-gpt4.openai.azure.com/'\n",
    "MY_AOAI_VERSION = '2023-07-01-preview'\n",
    "MY_GPT_ENGINE = 'tr-gpt4'\n",
    "MY_AOAI_EMBEDDING_ENGINE = 'tr-embedding-ada'\n",
    "\n",
    "status = aoai.setupOpenai(aoai_endpoint=MY_AOAI_ENDPOINT, \n",
    "                 aoai_version=MY_AOAI_VERSION)\n",
    "if status > 0:\n",
    "    print(\"AOAI setup succeeded\")\n",
    "else:\n",
    "    print(\"AOAI setup failed\")"
   ]
  },
  {
   "cell_type": "markdown",
   "metadata": {},
   "source": [
    "#### Ask GPT-4 to fix the error"
   ]
  },
  {
   "cell_type": "code",
   "execution_count": 15,
   "metadata": {},
   "outputs": [
    {
     "name": "stdout",
     "output_type": "stream",
     "text": [
      "Tokens: 54\n",
      "Finish Reason: stop\n",
      "Answer: 11 pm EDT\n"
     ]
    }
   ],
   "source": [
    "my_location = '2 Daffodil Street, New York City, NY 1002'\n",
    "my_time = '11 pm BST'\n",
    "my_date = '5/31/2023'\n",
    "\n",
    "my_task = f'Replace the timezone only in {my_time} with the timezone of the location in {my_location}, \\\n",
    "            given the date {my_date}'\n",
    "my_prompt = [\n",
    "              {\n",
    "                \"role\": \"user\", \n",
    "                \"content\": my_task\n",
    "                }\n",
    "            ]      \n",
    "tokens_used, finish_reason, aoai_answer = aoai.getChatCompletion(the_engine=MY_GPT_ENGINE, \n",
    "                                                                           the_messages=my_prompt)\n",
    "print(f\"Tokens: {tokens_used}\")\n",
    "print(f\"Finish Reason: {finish_reason}\")\n",
    "print(f\"Answer: {aoai_answer}\")"
   ]
  },
  {
   "cell_type": "markdown",
   "metadata": {},
   "source": [
    "## If you want to read all the raw OCR data from the extraction"
   ]
  },
  {
   "cell_type": "markdown",
   "metadata": {},
   "source": [
    "#### View the extracted raw data pages, tables..."
   ]
  },
  {
   "cell_type": "code",
   "execution_count": 7,
   "metadata": {},
   "outputs": [
    {
     "name": "stdout",
     "output_type": "stream",
     "text": [
      "...Line # 0 has text content 'b'TR INSURED''\n",
      "...Line # 1 has text content 'b'A Test P&C INSURANCE Company''\n",
      "...Line # 2 has text content 'b'Auto Insurance Claim Document''\n",
      "...Line # 3 has text content 'b'Customer Information''\n",
      "...Line # 4 has text content 'b'Name William Wordsworth''\n",
      "...Line # 5 has text content 'b'Address 39 Washington Street, New York City, NY 10003''\n",
      "...Line # 6 has text content 'b'Phone Number +1 123 465 1637''\n",
      "...Line # 7 has text content 'b'Email dummy3@3.com''\n",
      "...Line # 8 has text content 'b'Policy Number TRI 813654329''\n",
      "...Line # 9 has text content 'b'Incident Information''\n",
      "...Line # 10 has text content 'b'Date of Incident 5/31/2023''\n",
      "...Line # 11 has text content 'b'Time of Incident 11 pm BST''\n",
      "...Line # 12 has text content 'b'Location of Incident 2 Daffodil Street, New York City, NY 1002''\n",
      "...Line # 13 has text content 'b'Description of Incident Another Car changed lane and hit''\n",
      "...Line # 14 has text content 'b'my car on the driver side.''\n",
      "...Line # 15 has text content 'b'Vehicle Information''\n",
      "...Line # 16 has text content 'b\"Vehicle Owner's Name (if different from customer) NA\"'\n",
      "...Line # 17 has text content 'b'Make and Model of the Vehicle 2011 Kia Sorento''\n",
      "...Line # 18 has text content 'b'Vehicle Identification Number (VIN) 5XYKU4A12BG001739''\n",
      "...Line # 19 has text content 'b'License Plate Number FWK-2762''\n",
      "...Line # 20 has text content 'b'Witnesses (if any)''\n",
      "...Line # 0 has text content 'b'Name of Witness''\n",
      "...Line # 1 has text content 'b'William Shakespeare''\n",
      "...Line # 2 has text content 'b'Contact Information of Witness +1 000 111 0000''\n",
      "...Line # 3 has text content 'b'Police Report (if filed)''\n",
      "...Line # 4 has text content 'b'Police Report Number NYPD 3256''\n",
      "...Line # 5 has text content 'b'Name of Reporting Officer Queen Elizabeth''\n",
      "...Line # 6 has text content 'b'Police Department Contact Information +1 980 765 1234''\n",
      "...Line # 7 has text content 'b'Damage and Injuries''\n",
      "...Line # 8 has text content 'b'Extent of Vehicle Damage Huge dent in driver side front to back.''\n",
      "...Line # 9 has text content 'b'Driver Side window glass broken''\n",
      "...Line # 10 has text content 'b\"Injuries Sustained Customer Suffering from writer's block\"'\n",
      "...Line # 11 has text content 'b'Additional Comments''\n",
      "...Line # 12 has text content 'b'Lost my poetry book which was in the car''\n",
      "...Line # 13 has text content 'b'Claim Filed by self?''\n",
      "...Line # 14 has text content 'b'Yes''\n",
      "...Line # 15 has text content 'b'No''\n",
      "...Line # 16 has text content 'b'The above information is correct to the best of my knowledge, and I agree with the''\n",
      "...Line # 17 has text content 'b'Terms and Conditions detailed in my policy document with TR Insured.''\n",
      "...Line # 18 has text content 'b'Signature''\n",
      "...Line # 19 has text content 'b'Date''\n",
      "...Line # 20 has text content 'b'5/31/2023''\n",
      "...Selection mark is 'selected' and has a confidence of 0.971\n",
      "...Selection mark is 'unselected' and has a confidence of 0.993\n",
      "...Selection mark is 'selected' and has a confidence of 0.995\n",
      "----------------------------------------\n"
     ]
    }
   ],
   "source": [
    "for page in result.pages:\n",
    "    for line_idx, line in enumerate(page.lines):\n",
    "        print(\n",
    "         \"...Line # {} has text content '{}'\".format(\n",
    "        line_idx,\n",
    "        line.content.encode(\"utf-8\")\n",
    "        )\n",
    "    )\n",
    "\n",
    "    for selection_mark in page.selection_marks:\n",
    "        print(\n",
    "         \"...Selection mark is '{}' and has a confidence of {}\".format(\n",
    "         selection_mark.state,\n",
    "         selection_mark.confidence\n",
    "         )\n",
    "    )\n",
    "\n",
    "for table_idx, table in enumerate(result.tables):\n",
    "    print(\n",
    "        \"Table # {} has {} rows and {} columns\".format(\n",
    "        table_idx, table.row_count, table.column_count\n",
    "        )\n",
    "    )\n",
    "        \n",
    "    for cell in table.cells:\n",
    "        print(\n",
    "            \"...Cell[{}][{}] has content '{}'\".format(\n",
    "            cell.row_index,\n",
    "            cell.column_index,\n",
    "            cell.content.encode(\"utf-8\"),\n",
    "            )\n",
    "        )\n",
    "\n",
    "print(\"----------------------------------------\")"
   ]
  }
 ],
 "metadata": {
  "kernelspec": {
   "display_name": "Python 3 (ipykernel)",
   "language": "python",
   "name": "python3"
  },
  "language_info": {
   "codemirror_mode": {
    "name": "ipython",
    "version": 3
   },
   "file_extension": ".py",
   "mimetype": "text/x-python",
   "name": "python",
   "nbconvert_exporter": "python",
   "pygments_lexer": "ipython3",
   "version": "3.11.6"
  }
 },
 "nbformat": 4,
 "nbformat_minor": 2
}
